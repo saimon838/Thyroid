{
 "cells": [
  {
   "cell_type": "markdown",
   "id": "e95a4024",
   "metadata": {
    "papermill": {
     "duration": 0.048289,
     "end_time": "2023-05-22T13:36:46.780814",
     "exception": false,
     "start_time": "2023-05-22T13:36:46.732525",
     "status": "completed"
    },
    "tags": []
   },
   "source": [
    "## **Introduction**"
   ]
  },
  {
   "cell_type": "markdown",
   "id": "c652ba66",
   "metadata": {
    "papermill": {
     "duration": 0.047369,
     "end_time": "2023-05-22T13:36:46.876933",
     "exception": false,
     "start_time": "2023-05-22T13:36:46.829564",
     "status": "completed"
    },
    "tags": []
   },
   "source": [
    "## **Import Libraries**"
   ]
  },
  {
   "cell_type": "code",
   "execution_count": 1,
   "id": "b239133a",
   "metadata": {
    "execution": {
     "iopub.execute_input": "2023-05-22T13:36:46.991467Z",
     "iopub.status.busy": "2023-05-22T13:36:46.990399Z",
     "iopub.status.idle": "2023-05-22T13:36:48.808579Z",
     "shell.execute_reply": "2023-05-22T13:36:48.807756Z",
     "shell.execute_reply.started": "2023-05-22T13:27:02.163746Z"
    },
    "papermill": {
     "duration": 1.880631,
     "end_time": "2023-05-22T13:36:48.808783",
     "exception": false,
     "start_time": "2023-05-22T13:36:46.928152",
     "status": "completed"
    },
    "tags": []
   },
   "outputs": [],
   "source": [
    "#pandas\n",
    "import pandas as pd\n",
    "\n",
    "#numpy\n",
    "import numpy as np\n",
    "\n",
    "#matplotlib\n",
    "import matplotlib.pyplot as plt\n",
    "\n",
    "#seaborn\n",
    "import seaborn as sns\n",
    "\n",
    "#sklearn\n",
    "from sklearn.linear_model import LogisticRegression\n",
    "from sklearn.svm import SVC\n",
    "from sklearn.metrics import classification_report,f1_score\n",
    "from sklearn.ensemble import RandomForestClassifier\n",
    "from sklearn.preprocessing import LabelEncoder\n",
    "from imblearn.over_sampling import SMOTE\n",
    "from sklearn.model_selection import train_test_split\n",
    "from sklearn.preprocessing import MinMaxScaler\n",
    "from sklearn.tree import DecisionTreeClassifier\n",
    "from sklearn.neighbors import KNeighborsClassifier\n",
    "import pickle\n",
    "import warnings\n",
    "warnings.filterwarnings('ignore')"
   ]
  },
  {
   "cell_type": "markdown",
   "id": "4e2d1300",
   "metadata": {
    "papermill": {
     "duration": 0.045986,
     "end_time": "2023-05-22T13:36:48.902164",
     "exception": false,
     "start_time": "2023-05-22T13:36:48.856178",
     "status": "completed"
    },
    "tags": []
   },
   "source": [
    "## **Read data from csv**"
   ]
  },
  {
   "cell_type": "code",
   "execution_count": 2,
   "id": "b9723127",
   "metadata": {
    "execution": {
     "iopub.execute_input": "2023-05-22T13:36:49.001282Z",
     "iopub.status.busy": "2023-05-22T13:36:49.000435Z",
     "iopub.status.idle": "2023-05-22T13:36:49.080628Z",
     "shell.execute_reply": "2023-05-22T13:36:49.081229Z",
     "shell.execute_reply.started": "2023-05-22T13:27:02.176041Z"
    },
    "papermill": {
     "duration": 0.132853,
     "end_time": "2023-05-22T13:36:49.081419",
     "exception": false,
     "start_time": "2023-05-22T13:36:48.948566",
     "status": "completed"
    },
    "tags": []
   },
   "outputs": [
    {
     "data": {
      "text/html": [
       "<div>\n",
       "<style scoped>\n",
       "    .dataframe tbody tr th:only-of-type {\n",
       "        vertical-align: middle;\n",
       "    }\n",
       "\n",
       "    .dataframe tbody tr th {\n",
       "        vertical-align: top;\n",
       "    }\n",
       "\n",
       "    .dataframe thead th {\n",
       "        text-align: right;\n",
       "    }\n",
       "</style>\n",
       "<table border=\"1\" class=\"dataframe\">\n",
       "  <thead>\n",
       "    <tr style=\"text-align: right;\">\n",
       "      <th></th>\n",
       "      <th>age</th>\n",
       "      <th>sex</th>\n",
       "      <th>on thyroxine</th>\n",
       "      <th>query on thyroxine</th>\n",
       "      <th>on antithyroid medication</th>\n",
       "      <th>sick</th>\n",
       "      <th>pregnant</th>\n",
       "      <th>thyroid surgery</th>\n",
       "      <th>I131 treatment</th>\n",
       "      <th>query hypothyroid</th>\n",
       "      <th>...</th>\n",
       "      <th>TT4 measured</th>\n",
       "      <th>TT4</th>\n",
       "      <th>T4U measured</th>\n",
       "      <th>T4U</th>\n",
       "      <th>FTI measured</th>\n",
       "      <th>FTI</th>\n",
       "      <th>TBG measured</th>\n",
       "      <th>TBG</th>\n",
       "      <th>referral source</th>\n",
       "      <th>binaryClass</th>\n",
       "    </tr>\n",
       "  </thead>\n",
       "  <tbody>\n",
       "    <tr>\n",
       "      <th>0</th>\n",
       "      <td>41</td>\n",
       "      <td>F</td>\n",
       "      <td>f</td>\n",
       "      <td>f</td>\n",
       "      <td>f</td>\n",
       "      <td>f</td>\n",
       "      <td>f</td>\n",
       "      <td>f</td>\n",
       "      <td>f</td>\n",
       "      <td>f</td>\n",
       "      <td>...</td>\n",
       "      <td>t</td>\n",
       "      <td>125</td>\n",
       "      <td>t</td>\n",
       "      <td>1.14</td>\n",
       "      <td>t</td>\n",
       "      <td>109</td>\n",
       "      <td>f</td>\n",
       "      <td>?</td>\n",
       "      <td>SVHC</td>\n",
       "      <td>P</td>\n",
       "    </tr>\n",
       "    <tr>\n",
       "      <th>1</th>\n",
       "      <td>23</td>\n",
       "      <td>F</td>\n",
       "      <td>f</td>\n",
       "      <td>f</td>\n",
       "      <td>f</td>\n",
       "      <td>f</td>\n",
       "      <td>f</td>\n",
       "      <td>f</td>\n",
       "      <td>f</td>\n",
       "      <td>f</td>\n",
       "      <td>...</td>\n",
       "      <td>t</td>\n",
       "      <td>102</td>\n",
       "      <td>f</td>\n",
       "      <td>?</td>\n",
       "      <td>f</td>\n",
       "      <td>?</td>\n",
       "      <td>f</td>\n",
       "      <td>?</td>\n",
       "      <td>other</td>\n",
       "      <td>P</td>\n",
       "    </tr>\n",
       "    <tr>\n",
       "      <th>2</th>\n",
       "      <td>46</td>\n",
       "      <td>M</td>\n",
       "      <td>f</td>\n",
       "      <td>f</td>\n",
       "      <td>f</td>\n",
       "      <td>f</td>\n",
       "      <td>f</td>\n",
       "      <td>f</td>\n",
       "      <td>f</td>\n",
       "      <td>f</td>\n",
       "      <td>...</td>\n",
       "      <td>t</td>\n",
       "      <td>109</td>\n",
       "      <td>t</td>\n",
       "      <td>0.91</td>\n",
       "      <td>t</td>\n",
       "      <td>120</td>\n",
       "      <td>f</td>\n",
       "      <td>?</td>\n",
       "      <td>other</td>\n",
       "      <td>P</td>\n",
       "    </tr>\n",
       "    <tr>\n",
       "      <th>3</th>\n",
       "      <td>70</td>\n",
       "      <td>F</td>\n",
       "      <td>t</td>\n",
       "      <td>f</td>\n",
       "      <td>f</td>\n",
       "      <td>f</td>\n",
       "      <td>f</td>\n",
       "      <td>f</td>\n",
       "      <td>f</td>\n",
       "      <td>f</td>\n",
       "      <td>...</td>\n",
       "      <td>t</td>\n",
       "      <td>175</td>\n",
       "      <td>f</td>\n",
       "      <td>?</td>\n",
       "      <td>f</td>\n",
       "      <td>?</td>\n",
       "      <td>f</td>\n",
       "      <td>?</td>\n",
       "      <td>other</td>\n",
       "      <td>P</td>\n",
       "    </tr>\n",
       "    <tr>\n",
       "      <th>4</th>\n",
       "      <td>70</td>\n",
       "      <td>F</td>\n",
       "      <td>f</td>\n",
       "      <td>f</td>\n",
       "      <td>f</td>\n",
       "      <td>f</td>\n",
       "      <td>f</td>\n",
       "      <td>f</td>\n",
       "      <td>f</td>\n",
       "      <td>f</td>\n",
       "      <td>...</td>\n",
       "      <td>t</td>\n",
       "      <td>61</td>\n",
       "      <td>t</td>\n",
       "      <td>0.87</td>\n",
       "      <td>t</td>\n",
       "      <td>70</td>\n",
       "      <td>f</td>\n",
       "      <td>?</td>\n",
       "      <td>SVI</td>\n",
       "      <td>P</td>\n",
       "    </tr>\n",
       "  </tbody>\n",
       "</table>\n",
       "<p>5 rows × 30 columns</p>\n",
       "</div>"
      ],
      "text/plain": [
       "  age sex on thyroxine query on thyroxine on antithyroid medication sick  \\\n",
       "0  41   F            f                  f                         f    f   \n",
       "1  23   F            f                  f                         f    f   \n",
       "2  46   M            f                  f                         f    f   \n",
       "3  70   F            t                  f                         f    f   \n",
       "4  70   F            f                  f                         f    f   \n",
       "\n",
       "  pregnant thyroid surgery I131 treatment query hypothyroid  ... TT4 measured  \\\n",
       "0        f               f              f                 f  ...            t   \n",
       "1        f               f              f                 f  ...            t   \n",
       "2        f               f              f                 f  ...            t   \n",
       "3        f               f              f                 f  ...            t   \n",
       "4        f               f              f                 f  ...            t   \n",
       "\n",
       "   TT4 T4U measured   T4U FTI measured  FTI TBG measured TBG referral source  \\\n",
       "0  125            t  1.14            t  109            f   ?            SVHC   \n",
       "1  102            f     ?            f    ?            f   ?           other   \n",
       "2  109            t  0.91            t  120            f   ?           other   \n",
       "3  175            f     ?            f    ?            f   ?           other   \n",
       "4   61            t  0.87            t   70            f   ?             SVI   \n",
       "\n",
       "  binaryClass  \n",
       "0           P  \n",
       "1           P  \n",
       "2           P  \n",
       "3           P  \n",
       "4           P  \n",
       "\n",
       "[5 rows x 30 columns]"
      ]
     },
     "execution_count": 2,
     "metadata": {},
     "output_type": "execute_result"
    }
   ],
   "source": [
    "thyroid_df = pd.read_csv('../input/thyroid-disease-data-set/hypothyroid.csv')\n",
    "thyroid_df.head()"
   ]
  },
  {
   "cell_type": "markdown",
   "id": "689a75a8",
   "metadata": {
    "papermill": {
     "duration": 0.048331,
     "end_time": "2023-05-22T13:36:49.178625",
     "exception": false,
     "start_time": "2023-05-22T13:36:49.130294",
     "status": "completed"
    },
    "tags": []
   },
   "source": [
    "## **Data Cleaning**"
   ]
  },
  {
   "cell_type": "code",
   "execution_count": 3,
   "id": "c84b2d13",
   "metadata": {
    "execution": {
     "iopub.execute_input": "2023-05-22T13:36:49.285245Z",
     "iopub.status.busy": "2023-05-22T13:36:49.283952Z",
     "iopub.status.idle": "2023-05-22T13:36:49.286493Z",
     "shell.execute_reply": "2023-05-22T13:36:49.287170Z",
     "shell.execute_reply.started": "2023-05-22T13:27:02.238720Z"
    },
    "papermill": {
     "duration": 0.061227,
     "end_time": "2023-05-22T13:36:49.287365",
     "exception": false,
     "start_time": "2023-05-22T13:36:49.226138",
     "status": "completed"
    },
    "tags": []
   },
   "outputs": [],
   "source": [
    "thyroid_df.rename(columns={'binaryClass':'Label'},inplace=True)"
   ]
  },
  {
   "cell_type": "code",
   "execution_count": 4,
   "id": "f1b4073d",
   "metadata": {
    "execution": {
     "iopub.execute_input": "2023-05-22T13:36:49.457089Z",
     "iopub.status.busy": "2023-05-22T13:36:49.455874Z",
     "iopub.status.idle": "2023-05-22T13:36:49.473817Z",
     "shell.execute_reply": "2023-05-22T13:36:49.474473Z",
     "shell.execute_reply.started": "2023-05-22T13:27:02.246832Z"
    },
    "papermill": {
     "duration": 0.138795,
     "end_time": "2023-05-22T13:36:49.474682",
     "exception": false,
     "start_time": "2023-05-22T13:36:49.335887",
     "status": "completed"
    },
    "tags": []
   },
   "outputs": [],
   "source": [
    "thyroid_df.replace('?',np.nan,inplace=True)"
   ]
  },
  {
   "cell_type": "code",
   "execution_count": 5,
   "id": "f1c257a3",
   "metadata": {
    "execution": {
     "iopub.execute_input": "2023-05-22T13:36:49.577276Z",
     "iopub.status.busy": "2023-05-22T13:36:49.576184Z",
     "iopub.status.idle": "2023-05-22T13:36:49.590119Z",
     "shell.execute_reply": "2023-05-22T13:36:49.590760Z",
     "shell.execute_reply.started": "2023-05-22T13:27:02.275298Z"
    },
    "papermill": {
     "duration": 0.068118,
     "end_time": "2023-05-22T13:36:49.590964",
     "exception": false,
     "start_time": "2023-05-22T13:36:49.522846",
     "status": "completed"
    },
    "tags": []
   },
   "outputs": [],
   "source": [
    "thyroid_df.drop(['T3 measured','TSH measured','TT4 measured','T4U measured','FTI measured','TBG measured','TBG','referral source','on thyroxine','query on thyroxine','on antithyroid medication','query hypothyroid', 'query hyperthyroid','hypopituitary', 'psych'],axis=1,inplace=True)"
   ]
  },
  {
   "cell_type": "code",
   "execution_count": 6,
   "id": "8ef16956",
   "metadata": {
    "execution": {
     "iopub.execute_input": "2023-05-22T13:36:49.699605Z",
     "iopub.status.busy": "2023-05-22T13:36:49.698782Z",
     "iopub.status.idle": "2023-05-22T13:36:49.715033Z",
     "shell.execute_reply": "2023-05-22T13:36:49.716125Z",
     "shell.execute_reply.started": "2023-05-22T13:27:02.287110Z"
    },
    "papermill": {
     "duration": 0.076877,
     "end_time": "2023-05-22T13:36:49.716327",
     "exception": false,
     "start_time": "2023-05-22T13:36:49.639450",
     "status": "completed"
    },
    "tags": []
   },
   "outputs": [
    {
     "name": "stdout",
     "output_type": "stream",
     "text": [
      "<class 'pandas.core.frame.DataFrame'>\n",
      "RangeIndex: 3772 entries, 0 to 3771\n",
      "Data columns (total 15 columns):\n",
      " #   Column           Non-Null Count  Dtype \n",
      "---  ------           --------------  ----- \n",
      " 0   age              3771 non-null   object\n",
      " 1   sex              3622 non-null   object\n",
      " 2   sick             3772 non-null   object\n",
      " 3   pregnant         3772 non-null   object\n",
      " 4   thyroid surgery  3772 non-null   object\n",
      " 5   I131 treatment   3772 non-null   object\n",
      " 6   lithium          3772 non-null   object\n",
      " 7   goitre           3772 non-null   object\n",
      " 8   tumor            3772 non-null   object\n",
      " 9   TSH              3403 non-null   object\n",
      " 10  T3               3003 non-null   object\n",
      " 11  TT4              3541 non-null   object\n",
      " 12  T4U              3385 non-null   object\n",
      " 13  FTI              3387 non-null   object\n",
      " 14  Label            3772 non-null   object\n",
      "dtypes: object(15)\n",
      "memory usage: 442.2+ KB\n"
     ]
    }
   ],
   "source": [
    "thyroid_df.info()"
   ]
  },
  {
   "cell_type": "code",
   "execution_count": 7,
   "id": "44501189",
   "metadata": {
    "execution": {
     "iopub.execute_input": "2023-05-22T13:36:49.816876Z",
     "iopub.status.busy": "2023-05-22T13:36:49.815804Z",
     "iopub.status.idle": "2023-05-22T13:36:49.825082Z",
     "shell.execute_reply": "2023-05-22T13:36:49.824346Z",
     "shell.execute_reply.started": "2023-05-22T13:27:02.317550Z"
    },
    "papermill": {
     "duration": 0.060743,
     "end_time": "2023-05-22T13:36:49.825251",
     "exception": false,
     "start_time": "2023-05-22T13:36:49.764508",
     "status": "completed"
    },
    "tags": []
   },
   "outputs": [
    {
     "data": {
      "text/plain": [
       "f    3719\n",
       "t      53\n",
       "Name: thyroid surgery, dtype: int64"
      ]
     },
     "execution_count": 7,
     "metadata": {},
     "output_type": "execute_result"
    }
   ],
   "source": [
    "thyroid_df['thyroid surgery'].value_counts()"
   ]
  },
  {
   "cell_type": "code",
   "execution_count": 8,
   "id": "55b266cf",
   "metadata": {
    "execution": {
     "iopub.execute_input": "2023-05-22T13:36:49.933145Z",
     "iopub.status.busy": "2023-05-22T13:36:49.931990Z",
     "iopub.status.idle": "2023-05-22T13:36:49.953489Z",
     "shell.execute_reply": "2023-05-22T13:36:49.954053Z",
     "shell.execute_reply.started": "2023-05-22T13:27:02.329444Z"
    },
    "papermill": {
     "duration": 0.079907,
     "end_time": "2023-05-22T13:36:49.954264",
     "exception": false,
     "start_time": "2023-05-22T13:36:49.874357",
     "status": "completed"
    },
    "tags": []
   },
   "outputs": [],
   "source": [
    "cols = ['age','FTI','TSH','T3','TT4','T4U']\n",
    "for i in cols:\n",
    "    thyroid_df[i] = pd.to_numeric(thyroid_df[i])"
   ]
  },
  {
   "cell_type": "code",
   "execution_count": 9,
   "id": "7b7dda80",
   "metadata": {
    "execution": {
     "iopub.execute_input": "2023-05-22T13:36:50.056193Z",
     "iopub.status.busy": "2023-05-22T13:36:50.055144Z",
     "iopub.status.idle": "2023-05-22T13:36:50.073412Z",
     "shell.execute_reply": "2023-05-22T13:36:50.073983Z",
     "shell.execute_reply.started": "2023-05-22T13:27:02.370313Z"
    },
    "papermill": {
     "duration": 0.071244,
     "end_time": "2023-05-22T13:36:50.074233",
     "exception": false,
     "start_time": "2023-05-22T13:36:50.002989",
     "status": "completed"
    },
    "tags": []
   },
   "outputs": [
    {
     "name": "stdout",
     "output_type": "stream",
     "text": [
      "<class 'pandas.core.frame.DataFrame'>\n",
      "RangeIndex: 3772 entries, 0 to 3771\n",
      "Data columns (total 15 columns):\n",
      " #   Column           Non-Null Count  Dtype  \n",
      "---  ------           --------------  -----  \n",
      " 0   age              3771 non-null   float64\n",
      " 1   sex              3622 non-null   object \n",
      " 2   sick             3772 non-null   object \n",
      " 3   pregnant         3772 non-null   object \n",
      " 4   thyroid surgery  3772 non-null   object \n",
      " 5   I131 treatment   3772 non-null   object \n",
      " 6   lithium          3772 non-null   object \n",
      " 7   goitre           3772 non-null   object \n",
      " 8   tumor            3772 non-null   object \n",
      " 9   TSH              3403 non-null   float64\n",
      " 10  T3               3003 non-null   float64\n",
      " 11  TT4              3541 non-null   float64\n",
      " 12  T4U              3385 non-null   float64\n",
      " 13  FTI              3387 non-null   float64\n",
      " 14  Label            3772 non-null   object \n",
      "dtypes: float64(6), object(9)\n",
      "memory usage: 442.2+ KB\n"
     ]
    }
   ],
   "source": [
    "thyroid_df.info()"
   ]
  },
  {
   "cell_type": "markdown",
   "id": "d3e5824d",
   "metadata": {
    "papermill": {
     "duration": 0.048432,
     "end_time": "2023-05-22T13:36:50.172655",
     "exception": false,
     "start_time": "2023-05-22T13:36:50.124223",
     "status": "completed"
    },
    "tags": []
   },
   "source": [
    "## **Handle Missing Values**"
   ]
  },
  {
   "cell_type": "code",
   "execution_count": 10,
   "id": "71492795",
   "metadata": {
    "execution": {
     "iopub.execute_input": "2023-05-22T13:36:50.280461Z",
     "iopub.status.busy": "2023-05-22T13:36:50.279644Z",
     "iopub.status.idle": "2023-05-22T13:36:50.287393Z",
     "shell.execute_reply": "2023-05-22T13:36:50.288053Z",
     "shell.execute_reply.started": "2023-05-22T13:27:02.395880Z"
    },
    "papermill": {
     "duration": 0.066702,
     "end_time": "2023-05-22T13:36:50.288293",
     "exception": false,
     "start_time": "2023-05-22T13:36:50.221591",
     "status": "completed"
    },
    "tags": []
   },
   "outputs": [
    {
     "data": {
      "text/plain": [
       "age                  1\n",
       "sex                150\n",
       "sick                 0\n",
       "pregnant             0\n",
       "thyroid surgery      0\n",
       "I131 treatment       0\n",
       "lithium              0\n",
       "goitre               0\n",
       "tumor                0\n",
       "TSH                369\n",
       "T3                 769\n",
       "TT4                231\n",
       "T4U                387\n",
       "FTI                385\n",
       "Label                0\n",
       "dtype: int64"
      ]
     },
     "execution_count": 10,
     "metadata": {},
     "output_type": "execute_result"
    }
   ],
   "source": [
    "thyroid_df.isnull().sum()"
   ]
  },
  {
   "cell_type": "code",
   "execution_count": 11,
   "id": "32b586eb",
   "metadata": {
    "execution": {
     "iopub.execute_input": "2023-05-22T13:36:50.391415Z",
     "iopub.status.busy": "2023-05-22T13:36:50.390656Z",
     "iopub.status.idle": "2023-05-22T13:36:50.397405Z",
     "shell.execute_reply": "2023-05-22T13:36:50.398008Z",
     "shell.execute_reply.started": "2023-05-22T13:27:02.412163Z"
    },
    "papermill": {
     "duration": 0.059857,
     "end_time": "2023-05-22T13:36:50.398224",
     "exception": false,
     "start_time": "2023-05-22T13:36:50.338367",
     "status": "completed"
    },
    "tags": []
   },
   "outputs": [],
   "source": [
    "miss_cols = ['FTI','TSH','T3','TT4','T4U']\n",
    "for i in miss_cols:\n",
    "    thyroid_df[i] = thyroid_df[i].fillna(thyroid_df[i].mean())"
   ]
  },
  {
   "cell_type": "code",
   "execution_count": 12,
   "id": "ec82f0e1",
   "metadata": {
    "execution": {
     "iopub.execute_input": "2023-05-22T13:36:50.502666Z",
     "iopub.status.busy": "2023-05-22T13:36:50.501884Z",
     "iopub.status.idle": "2023-05-22T13:36:50.517988Z",
     "shell.execute_reply": "2023-05-22T13:36:50.517221Z",
     "shell.execute_reply.started": "2023-05-22T13:27:02.422986Z"
    },
    "papermill": {
     "duration": 0.070123,
     "end_time": "2023-05-22T13:36:50.518223",
     "exception": false,
     "start_time": "2023-05-22T13:36:50.448100",
     "status": "completed"
    },
    "tags": []
   },
   "outputs": [],
   "source": [
    "thyroid_df.dropna(inplace=True)"
   ]
  },
  {
   "cell_type": "code",
   "execution_count": 13,
   "id": "a47fbda8",
   "metadata": {
    "execution": {
     "iopub.execute_input": "2023-05-22T13:36:50.630280Z",
     "iopub.status.busy": "2023-05-22T13:36:50.629331Z",
     "iopub.status.idle": "2023-05-22T13:36:50.636499Z",
     "shell.execute_reply": "2023-05-22T13:36:50.637139Z",
     "shell.execute_reply.started": "2023-05-22T13:27:02.440648Z"
    },
    "papermill": {
     "duration": 0.067845,
     "end_time": "2023-05-22T13:36:50.637343",
     "exception": false,
     "start_time": "2023-05-22T13:36:50.569498",
     "status": "completed"
    },
    "tags": []
   },
   "outputs": [
    {
     "data": {
      "text/plain": [
       "age                0\n",
       "sex                0\n",
       "sick               0\n",
       "pregnant           0\n",
       "thyroid surgery    0\n",
       "I131 treatment     0\n",
       "lithium            0\n",
       "goitre             0\n",
       "tumor              0\n",
       "TSH                0\n",
       "T3                 0\n",
       "TT4                0\n",
       "T4U                0\n",
       "FTI                0\n",
       "Label              0\n",
       "dtype: int64"
      ]
     },
     "execution_count": 13,
     "metadata": {},
     "output_type": "execute_result"
    }
   ],
   "source": [
    "thyroid_df.isnull().sum()"
   ]
  },
  {
   "cell_type": "code",
   "execution_count": 14,
   "id": "a36b9133",
   "metadata": {
    "execution": {
     "iopub.execute_input": "2023-05-22T13:36:50.743794Z",
     "iopub.status.busy": "2023-05-22T13:36:50.743065Z",
     "iopub.status.idle": "2023-05-22T13:36:50.748967Z",
     "shell.execute_reply": "2023-05-22T13:36:50.749595Z",
     "shell.execute_reply.started": "2023-05-22T13:27:02.459906Z"
    },
    "papermill": {
     "duration": 0.059865,
     "end_time": "2023-05-22T13:36:50.749795",
     "exception": false,
     "start_time": "2023-05-22T13:36:50.689930",
     "status": "completed"
    },
    "tags": []
   },
   "outputs": [],
   "source": [
    "thyroid_df = thyroid_df.drop(1364)"
   ]
  },
  {
   "cell_type": "code",
   "execution_count": 15,
   "id": "622b637e",
   "metadata": {
    "execution": {
     "iopub.execute_input": "2023-05-22T13:36:50.853478Z",
     "iopub.status.busy": "2023-05-22T13:36:50.852692Z",
     "iopub.status.idle": "2023-05-22T13:36:50.859633Z",
     "shell.execute_reply": "2023-05-22T13:36:50.860245Z",
     "shell.execute_reply.started": "2023-05-22T13:27:02.469659Z"
    },
    "papermill": {
     "duration": 0.060982,
     "end_time": "2023-05-22T13:36:50.860469",
     "exception": false,
     "start_time": "2023-05-22T13:36:50.799487",
     "status": "completed"
    },
    "tags": []
   },
   "outputs": [],
   "source": [
    "thyroid_df.TT4 = thyroid_df.TT4.astype(int)\n",
    "thyroid_df.FTI = thyroid_df.FTI.astype(int)\n",
    "thyroid_df.age = thyroid_df.age.astype(int)"
   ]
  },
  {
   "cell_type": "markdown",
   "id": "48da5bf7",
   "metadata": {
    "papermill": {
     "duration": 0.049508,
     "end_time": "2023-05-22T13:36:50.960472",
     "exception": false,
     "start_time": "2023-05-22T13:36:50.910964",
     "status": "completed"
    },
    "tags": []
   },
   "source": [
    "## **EDA**"
   ]
  },
  {
   "cell_type": "code",
   "execution_count": 16,
   "id": "b035f979",
   "metadata": {
    "execution": {
     "iopub.execute_input": "2023-05-22T13:36:51.065007Z",
     "iopub.status.busy": "2023-05-22T13:36:51.064213Z",
     "iopub.status.idle": "2023-05-22T13:36:51.416220Z",
     "shell.execute_reply": "2023-05-22T13:36:51.415400Z",
     "shell.execute_reply.started": "2023-05-22T13:27:02.484977Z"
    },
    "papermill": {
     "duration": 0.405825,
     "end_time": "2023-05-22T13:36:51.416430",
     "exception": false,
     "start_time": "2023-05-22T13:36:51.010605",
     "status": "completed"
    },
    "tags": []
   },
   "outputs": [
    {
     "data": {
      "image/png": "[encoded data removed]",
      "text/plain": [
       "<Figure size 432x288 with 1 Axes>"
      ]
     },
     "metadata": {
      "needs_background": "light"
     },
     "output_type": "display_data"
    }
   ],
   "source": [
    "sns.countplot(x='Label',data=thyroid_df)\n",
    "plt.title(\"Countplot for Target variable\");"
   ]
  },
  {
   "cell_type": "code",
   "execution_count": 17,
   "id": "d69817e2",
   "metadata": {
    "execution": {
     "iopub.execute_input": "2023-05-22T13:36:51.527277Z",
     "iopub.status.busy": "2023-05-22T13:36:51.526134Z",
     "iopub.status.idle": "2023-05-22T13:36:51.530718Z",
     "shell.execute_reply": "2023-05-22T13:36:51.529910Z",
     "shell.execute_reply.started": "2023-05-22T13:27:02.728400Z"
    },
    "papermill": {
     "duration": 0.062201,
     "end_time": "2023-05-22T13:36:51.530897",
     "exception": false,
     "start_time": "2023-05-22T13:36:51.468696",
     "status": "completed"
    },
    "tags": []
   },
   "outputs": [],
   "source": [
    "positive_df = thyroid_df[thyroid_df.Label=='P']"
   ]
  },
  {
   "cell_type": "code",
   "execution_count": 18,
   "id": "fddc0863",
   "metadata": {
    "execution": {
     "iopub.execute_input": "2023-05-22T13:36:51.644411Z",
     "iopub.status.busy": "2023-05-22T13:36:51.643558Z",
     "iopub.status.idle": "2023-05-22T13:36:51.990581Z",
     "shell.execute_reply": "2023-05-22T13:36:51.989767Z",
     "shell.execute_reply.started": "2023-05-22T13:27:33.094165Z"
    },
    "papermill": {
     "duration": 0.407943,
     "end_time": "2023-05-22T13:36:51.990746",
     "exception": false,
     "start_time": "2023-05-22T13:36:51.582803",
     "status": "completed"
    },
    "tags": []
   },
   "outputs": [
    {
     "data": {
      "image/png": "[encoded data removed]",
      "text/plain": [
       "<Figure size 648x432 with 1 Axes>"
      ]
     },
     "metadata": {
      "needs_background": "light"
     },
     "output_type": "display_data"
    }
   ],
   "source": [
    "plt.figure(figsize=(9,6))\n",
    "sns.histplot(x='age',data=positive_df,color='green')\n",
    "plt.title(\"Distribution of Positive Class Based on Age\",{'fontsize':10});"
   ]
  },
  {
   "cell_type": "code",
   "execution_count": 19,
   "id": "4507b430",
   "metadata": {
    "execution": {
     "iopub.execute_input": "2023-05-22T13:36:52.103506Z",
     "iopub.status.busy": "2023-05-22T13:36:52.102706Z",
     "iopub.status.idle": "2023-05-22T13:36:52.314470Z",
     "shell.execute_reply": "2023-05-22T13:36:52.313807Z",
     "shell.execute_reply.started": "2023-05-22T13:27:03.079466Z"
    },
    "papermill": {
     "duration": 0.271723,
     "end_time": "2023-05-22T13:36:52.314652",
     "exception": false,
     "start_time": "2023-05-22T13:36:52.042929",
     "status": "completed"
    },
    "tags": []
   },
   "outputs": [
    {
     "data": {
      "image/png": "[encoded data removed]",
      "text/plain": [
       "<Figure size 720x576 with 1 Axes>"
      ]
     },
     "metadata": {},
     "output_type": "display_data"
    }
   ],
   "source": [
    "plt.figure(figsize=(10,8))\n",
    "plt.pie(x=positive_df.sex.value_counts(),\n",
    "        labels=['Female','Male'],\n",
    "        startangle = 90,\n",
    "        colors=['springgreen','orange'],\n",
    "        autopct='%.2f'\n",
    "       );\n",
    "plt.legend();"
   ]
  },
  {
   "cell_type": "markdown",
   "id": "ded8a753",
   "metadata": {
    "papermill": {
     "duration": 0.052284,
     "end_time": "2023-05-22T13:36:52.420915",
     "exception": false,
     "start_time": "2023-05-22T13:36:52.368631",
     "status": "completed"
    },
    "tags": []
   },
   "source": [
    "## **Inference :**\n",
    "### Female patients who has disease is greater than male patients."
   ]
  },
  {
   "cell_type": "code",
   "execution_count": 20,
   "id": "2608a65d",
   "metadata": {
    "execution": {
     "iopub.execute_input": "2023-05-22T13:36:52.545832Z",
     "iopub.status.busy": "2023-05-22T13:36:52.544969Z",
     "iopub.status.idle": "2023-05-22T13:36:52.765860Z",
     "shell.execute_reply": "2023-05-22T13:36:52.765088Z",
     "shell.execute_reply.started": "2023-05-22T13:27:03.289149Z"
    },
    "papermill": {
     "duration": 0.291763,
     "end_time": "2023-05-22T13:36:52.766040",
     "exception": false,
     "start_time": "2023-05-22T13:36:52.474277",
     "status": "completed"
    },
    "tags": []
   },
   "outputs": [
    {
     "data": {
      "image/png": "[encoded data removed]",
      "text/plain": [
       "<Figure size 576x576 with 1 Axes>"
      ]
     },
     "metadata": {},
     "output_type": "display_data"
    }
   ],
   "source": [
    "plt.figure(figsize=(8,8))\n",
    "plt.pie(x=positive_df.sick.value_counts(),\n",
    "        labels=['Sick','Well'],\n",
    "        startangle = 20,\n",
    "        colors=['deepskyblue','red'],\n",
    "        autopct='%.2f',\n",
    "        explode=[0,0.2]\n",
    "       );\n",
    "plt.legend();"
   ]
  },
  {
   "cell_type": "code",
   "execution_count": 21,
   "id": "93989ebb",
   "metadata": {
    "execution": {
     "iopub.execute_input": "2023-05-22T13:36:52.881355Z",
     "iopub.status.busy": "2023-05-22T13:36:52.880589Z",
     "iopub.status.idle": "2023-05-22T13:36:52.883842Z",
     "shell.execute_reply": "2023-05-22T13:36:52.883208Z",
     "shell.execute_reply.started": "2023-05-22T13:27:03.537151Z"
    },
    "papermill": {
     "duration": 0.063519,
     "end_time": "2023-05-22T13:36:52.884036",
     "exception": false,
     "start_time": "2023-05-22T13:36:52.820517",
     "status": "completed"
    },
    "tags": []
   },
   "outputs": [],
   "source": [
    "X = thyroid_df.drop('Label',axis=1)\n",
    "y = thyroid_df.Label"
   ]
  },
  {
   "cell_type": "markdown",
   "id": "7c120438",
   "metadata": {
    "papermill": {
     "duration": 0.053618,
     "end_time": "2023-05-22T13:36:52.991720",
     "exception": false,
     "start_time": "2023-05-22T13:36:52.938102",
     "status": "completed"
    },
    "tags": []
   },
   "source": [
    "## **Transform non-numerical labels to numerical labels.**"
   ]
  },
  {
   "cell_type": "code",
   "execution_count": 22,
   "id": "50b02755",
   "metadata": {
    "execution": {
     "iopub.execute_input": "2023-05-22T13:36:53.105793Z",
     "iopub.status.busy": "2023-05-22T13:36:53.104940Z",
     "iopub.status.idle": "2023-05-22T13:36:53.108573Z",
     "shell.execute_reply": "2023-05-22T13:36:53.107914Z",
     "shell.execute_reply.started": "2023-05-22T13:27:03.545172Z"
    },
    "papermill": {
     "duration": 0.063282,
     "end_time": "2023-05-22T13:36:53.108752",
     "exception": false,
     "start_time": "2023-05-22T13:36:53.045470",
     "status": "completed"
    },
    "tags": []
   },
   "outputs": [],
   "source": [
    "s_encoder = LabelEncoder()\n",
    "si_encoder = LabelEncoder()\n",
    "preg_encoder = LabelEncoder()\n",
    "th_encoder = LabelEncoder()\n",
    "treat_encoder = LabelEncoder()\n",
    "lith_encoder = LabelEncoder()\n",
    "g_encoder= LabelEncoder()\n",
    "tu_encoder = LabelEncoder()"
   ]
  },
  {
   "cell_type": "code",
   "execution_count": 23,
   "id": "0819a6c0",
   "metadata": {
    "execution": {
     "iopub.execute_input": "2023-05-22T13:36:53.224287Z",
     "iopub.status.busy": "2023-05-22T13:36:53.223467Z",
     "iopub.status.idle": "2023-05-22T13:36:53.245666Z",
     "shell.execute_reply": "2023-05-22T13:36:53.246346Z",
     "shell.execute_reply.started": "2023-05-22T13:27:03.559445Z"
    },
    "papermill": {
     "duration": 0.08085,
     "end_time": "2023-05-22T13:36:53.246584",
     "exception": false,
     "start_time": "2023-05-22T13:36:53.165734",
     "status": "completed"
    },
    "tags": []
   },
   "outputs": [],
   "source": [
    "X['sex'] = s_encoder.fit_transform(X.sex)\n",
    "X['I131 treatment'] = treat_encoder.fit_transform(X['I131 treatment'])\n",
    "X['sick'] = si_encoder.fit_transform(X.sick)\n",
    "X['pregnant'] = preg_encoder.fit_transform(X.pregnant)\n",
    "X['thyroid surgery'] = th_encoder.fit_transform(X['thyroid surgery'])\n",
    "X['lithium'] = lith_encoder.fit_transform(X['lithium'])\n",
    "X['goitre'] = g_encoder.fit_transform(X['goitre'])\n",
    "X['tumor'] = tu_encoder.fit_transform(X['tumor'])"
   ]
  },
  {
   "cell_type": "code",
   "execution_count": 24,
   "id": "ce4267c5",
   "metadata": {
    "execution": {
     "iopub.execute_input": "2023-05-22T13:36:53.362647Z",
     "iopub.status.busy": "2023-05-22T13:36:53.361833Z",
     "iopub.status.idle": "2023-05-22T13:36:53.365742Z",
     "shell.execute_reply": "2023-05-22T13:36:53.366315Z",
     "shell.execute_reply.started": "2023-05-22T13:27:03.591082Z"
    },
    "papermill": {
     "duration": 0.064143,
     "end_time": "2023-05-22T13:36:53.366518",
     "exception": false,
     "start_time": "2023-05-22T13:36:53.302375",
     "status": "completed"
    },
    "tags": []
   },
   "outputs": [],
   "source": [
    "def func(df):\n",
    "    if df == 'P':\n",
    "        return 1\n",
    "    else:\n",
    "        return 0"
   ]
  },
  {
   "cell_type": "code",
   "execution_count": 25,
   "id": "3e34daff",
   "metadata": {
    "execution": {
     "iopub.execute_input": "2023-05-22T13:36:53.481858Z",
     "iopub.status.busy": "2023-05-22T13:36:53.481033Z",
     "iopub.status.idle": "2023-05-22T13:36:53.489348Z",
     "shell.execute_reply": "2023-05-22T13:36:53.488671Z",
     "shell.execute_reply.started": "2023-05-22T13:27:03.597977Z"
    },
    "papermill": {
     "duration": 0.068258,
     "end_time": "2023-05-22T13:36:53.489543",
     "exception": false,
     "start_time": "2023-05-22T13:36:53.421285",
     "status": "completed"
    },
    "tags": []
   },
   "outputs": [],
   "source": [
    "y = y.apply(func)"
   ]
  },
  {
   "cell_type": "markdown",
   "id": "db05837b",
   "metadata": {
    "papermill": {
     "duration": 0.054995,
     "end_time": "2023-05-22T13:36:53.600921",
     "exception": false,
     "start_time": "2023-05-22T13:36:53.545926",
     "status": "completed"
    },
    "tags": []
   },
   "source": [
    "## **Split original data into training data and testing data.**"
   ]
  },
  {
   "cell_type": "code",
   "execution_count": 26,
   "id": "7df44b32",
   "metadata": {
    "execution": {
     "iopub.execute_input": "2023-05-22T13:36:53.712952Z",
     "iopub.status.busy": "2023-05-22T13:36:53.712176Z",
     "iopub.status.idle": "2023-05-22T13:36:53.721426Z",
     "shell.execute_reply": "2023-05-22T13:36:53.722078Z",
     "shell.execute_reply.started": "2023-05-22T13:27:03.615521Z"
    },
    "papermill": {
     "duration": 0.067892,
     "end_time": "2023-05-22T13:36:53.722278",
     "exception": false,
     "start_time": "2023-05-22T13:36:53.654386",
     "status": "completed"
    },
    "tags": []
   },
   "outputs": [],
   "source": [
    "X_train,X_test,y_train,y_test = train_test_split(X,y,test_size=0.2,random_state=11)"
   ]
  },
  {
   "cell_type": "markdown",
   "id": "e716a1e9",
   "metadata": {
    "papermill": {
     "duration": 0.053581,
     "end_time": "2023-05-22T13:36:53.829552",
     "exception": false,
     "start_time": "2023-05-22T13:36:53.775971",
     "status": "completed"
    },
    "tags": []
   },
   "source": [
    "## **Handle Imbalance Data**"
   ]
  },
  {
   "cell_type": "code",
   "execution_count": 27,
   "id": "ea9c5831",
   "metadata": {
    "execution": {
     "iopub.execute_input": "2023-05-22T13:36:53.940339Z",
     "iopub.status.busy": "2023-05-22T13:36:53.939468Z",
     "iopub.status.idle": "2023-05-22T13:36:53.959888Z",
     "shell.execute_reply": "2023-05-22T13:36:53.959157Z",
     "shell.execute_reply.started": "2023-05-22T13:27:03.633859Z"
    },
    "papermill": {
     "duration": 0.077024,
     "end_time": "2023-05-22T13:36:53.960077",
     "exception": false,
     "start_time": "2023-05-22T13:36:53.883053",
     "status": "completed"
    },
    "tags": []
   },
   "outputs": [],
   "source": [
    "smote = SMOTE(random_state=11)\n",
    "\n",
    "x_smote, y_smote = smote.fit_resample(X_train, y_train)"
   ]
  },
  {
   "cell_type": "code",
   "execution_count": 28,
   "id": "aae333b1",
   "metadata": {
    "execution": {
     "iopub.execute_input": "2023-05-22T13:36:54.074775Z",
     "iopub.status.busy": "2023-05-22T13:36:54.071832Z",
     "iopub.status.idle": "2023-05-22T13:36:54.076813Z",
     "shell.execute_reply": "2023-05-22T13:36:54.077427Z",
     "shell.execute_reply.started": "2023-05-22T13:27:03.658896Z"
    },
    "papermill": {
     "duration": 0.063342,
     "end_time": "2023-05-22T13:36:54.077625",
     "exception": false,
     "start_time": "2023-05-22T13:36:54.014283",
     "status": "completed"
    },
    "tags": []
   },
   "outputs": [
    {
     "name": "stdout",
     "output_type": "stream",
     "text": [
      "Shape before the Oversampling :  (2896, 14)\n",
      "Shape after the Oversampling :  (5340, 14)\n"
     ]
    }
   ],
   "source": [
    "print(\"Shape before the Oversampling : \",X_train.shape)\n",
    "print(\"Shape after the Oversampling : \",x_smote.shape)\n"
   ]
  },
  {
   "cell_type": "markdown",
   "id": "4a40e65a",
   "metadata": {
    "papermill": {
     "duration": 0.053527,
     "end_time": "2023-05-22T13:36:54.186518",
     "exception": false,
     "start_time": "2023-05-22T13:36:54.132991",
     "status": "completed"
    },
    "tags": []
   },
   "source": [
    "## **Scaling (Normalization)**"
   ]
  },
  {
   "cell_type": "code",
   "execution_count": 29,
   "id": "03685160",
   "metadata": {
    "execution": {
     "iopub.execute_input": "2023-05-22T13:36:54.301623Z",
     "iopub.status.busy": "2023-05-22T13:36:54.300820Z",
     "iopub.status.idle": "2023-05-22T13:36:54.316463Z",
     "shell.execute_reply": "2023-05-22T13:36:54.317115Z",
     "shell.execute_reply.started": "2023-05-22T13:27:03.666642Z"
    },
    "papermill": {
     "duration": 0.077105,
     "end_time": "2023-05-22T13:36:54.317315",
     "exception": false,
     "start_time": "2023-05-22T13:36:54.240210",
     "status": "completed"
    },
    "tags": []
   },
   "outputs": [],
   "source": [
    "scalr = MinMaxScaler()\n",
    "x_smote.TT4 = scalr.fit_transform(x_smote[['TT4']])\n",
    "x_smote.age = scalr.fit_transform(x_smote[['age']])\n",
    "x_smote.FTI = scalr.fit_transform(x_smote[['FTI']])"
   ]
  },
  {
   "cell_type": "code",
   "execution_count": 30,
   "id": "ec959e0d",
   "metadata": {
    "execution": {
     "iopub.execute_input": "2023-05-22T13:36:54.452126Z",
     "iopub.status.busy": "2023-05-22T13:36:54.450806Z",
     "iopub.status.idle": "2023-05-22T13:36:54.463459Z",
     "shell.execute_reply": "2023-05-22T13:36:54.464124Z",
     "shell.execute_reply.started": "2023-05-22T13:27:03.693433Z"
    },
    "papermill": {
     "duration": 0.085457,
     "end_time": "2023-05-22T13:36:54.464325",
     "exception": false,
     "start_time": "2023-05-22T13:36:54.378868",
     "status": "completed"
    },
    "tags": []
   },
   "outputs": [],
   "source": [
    "X_test.TT4 = scalr.transform(X_test[['TT4']])\n",
    "X_test.age = scalr.transform(X_test[['age']])\n",
    "X_test.FTI = scalr.transform(X_test[['FTI']])"
   ]
  },
  {
   "cell_type": "markdown",
   "id": "a91b1d05",
   "metadata": {
    "papermill": {
     "duration": 0.053698,
     "end_time": "2023-05-22T13:36:54.572972",
     "exception": false,
     "start_time": "2023-05-22T13:36:54.519274",
     "status": "completed"
    },
    "tags": []
   },
   "source": [
    "## **Build Models.**"
   ]
  },
  {
   "cell_type": "code",
   "execution_count": 31,
   "id": "8c52fd9a",
   "metadata": {
    "execution": {
     "iopub.execute_input": "2023-05-22T13:36:54.685402Z",
     "iopub.status.busy": "2023-05-22T13:36:54.684611Z",
     "iopub.status.idle": "2023-05-22T13:36:56.160591Z",
     "shell.execute_reply": "2023-05-22T13:36:56.159381Z",
     "shell.execute_reply.started": "2023-05-22T13:27:03.711065Z"
    },
    "papermill": {
     "duration": 1.533865,
     "end_time": "2023-05-22T13:36:56.160781",
     "exception": false,
     "start_time": "2023-05-22T13:36:54.626916",
     "status": "completed"
    },
    "tags": []
   },
   "outputs": [
    {
     "name": "stdout",
     "output_type": "stream",
     "text": [
      "Accuracy Score for Logistic Regression is :  98.20441988950276 %\n",
      "Accuracy Score for Support Vector Machine is :  98.20441988950276 %\n",
      "Accuracy Score for Random Forest is :  99.03314917127072 %\n",
      "Accuracy Score for KNN is :  98.34254143646409 %\n",
      "Accuracy Score for Decision Tree is :  97.51381215469614 %\n"
     ]
    }
   ],
   "source": [
    "models = {\n",
    "    LogisticRegression(max_iter=500):'Logistic Regression',\n",
    "    SVC():\"Support Vector Machine\",\n",
    "    RandomForestClassifier():'Random Forest',\n",
    "    KNeighborsClassifier(n_neighbors=5):'KNN',\n",
    "    DecisionTreeClassifier():'Decision Tree'\n",
    "}\n",
    "for m in models.keys():\n",
    "    m.fit(x_smote,y_smote)\n",
    "for model,name in models.items():\n",
    "     print(f\"Accuracy Score for {name} is : \",model.score(X_test,y_test)*100,\"%\")"
   ]
  },
  {
   "cell_type": "markdown",
   "id": "ce2d277d",
   "metadata": {
    "papermill": {
     "duration": 0.055201,
     "end_time": "2023-05-22T13:36:56.271488",
     "exception": false,
     "start_time": "2023-05-22T13:36:56.216287",
     "status": "completed"
    },
    "tags": []
   },
   "source": [
    "## **Inference :**\n",
    "### The most of patients who suffer from thyroid belonging to age group between 50-70"
   ]
  },
  {
   "cell_type": "markdown",
   "id": "a80d91a5",
   "metadata": {
    "papermill": {
     "duration": 0.055322,
     "end_time": "2023-05-22T13:36:56.382484",
     "exception": false,
     "start_time": "2023-05-22T13:36:56.327162",
     "status": "completed"
    },
    "tags": []
   },
   "source": [
    "## **Classification Report for each model.**"
   ]
  },
  {
   "cell_type": "code",
   "execution_count": 32,
   "id": "4542d759",
   "metadata": {
    "execution": {
     "iopub.execute_input": "2023-05-22T13:36:56.495995Z",
     "iopub.status.busy": "2023-05-22T13:36:56.494868Z",
     "iopub.status.idle": "2023-05-22T13:36:56.694665Z",
     "shell.execute_reply": "2023-05-22T13:36:56.693786Z",
     "shell.execute_reply.started": "2023-05-22T13:27:05.186455Z"
    },
    "papermill": {
     "duration": 0.257778,
     "end_time": "2023-05-22T13:36:56.694833",
     "exception": false,
     "start_time": "2023-05-22T13:36:56.437055",
     "status": "completed"
    },
    "tags": []
   },
   "outputs": [
    {
     "name": "stdout",
     "output_type": "stream",
     "text": [
      "Classification Report for Logistic Regression\n",
      "----------------------------------------------------------\n",
      "              precision    recall  f1-score   support\n",
      "\n",
      "           0       0.86      0.91      0.88        54\n",
      "           1       0.99      0.99      0.99       670\n",
      "\n",
      "    accuracy                           0.98       724\n",
      "   macro avg       0.93      0.95      0.94       724\n",
      "weighted avg       0.98      0.98      0.98       724\n",
      "\n",
      "----------------------------------------------------------\n",
      "Classification Report for Support Vector Machine\n",
      "----------------------------------------------------------\n",
      "              precision    recall  f1-score   support\n",
      "\n",
      "           0       0.82      0.98      0.89        54\n",
      "           1       1.00      0.98      0.99       670\n",
      "\n",
      "    accuracy                           0.98       724\n",
      "   macro avg       0.91      0.98      0.94       724\n",
      "weighted avg       0.98      0.98      0.98       724\n",
      "\n",
      "----------------------------------------------------------\n",
      "Classification Report for Random Forest\n",
      "----------------------------------------------------------\n",
      "              precision    recall  f1-score   support\n",
      "\n",
      "           0       0.93      0.94      0.94        54\n",
      "           1       1.00      0.99      0.99       670\n",
      "\n",
      "    accuracy                           0.99       724\n",
      "   macro avg       0.96      0.97      0.97       724\n",
      "weighted avg       0.99      0.99      0.99       724\n",
      "\n",
      "----------------------------------------------------------\n",
      "Classification Report for KNN\n",
      "----------------------------------------------------------\n",
      "              precision    recall  f1-score   support\n",
      "\n",
      "           0       0.83      0.98      0.90        54\n",
      "           1       1.00      0.98      0.99       670\n",
      "\n",
      "    accuracy                           0.98       724\n",
      "   macro avg       0.91      0.98      0.94       724\n",
      "weighted avg       0.99      0.98      0.98       724\n",
      "\n",
      "----------------------------------------------------------\n",
      "Classification Report for Decision Tree\n",
      "----------------------------------------------------------\n",
      "              precision    recall  f1-score   support\n",
      "\n",
      "           0       0.91      0.74      0.82        54\n",
      "           1       0.98      0.99      0.99       670\n",
      "\n",
      "    accuracy                           0.98       724\n",
      "   macro avg       0.94      0.87      0.90       724\n",
      "weighted avg       0.97      0.98      0.97       724\n",
      "\n",
      "----------------------------------------------------------\n"
     ]
    }
   ],
   "source": [
    "for model,name in models.items():\n",
    "    y_pred = model.predict(X_test)\n",
    "    print(f\"Classification Report for {name}\")  \n",
    "    print(\"----------------------------------------------------------\")\n",
    "    print(classification_report(y_test,y_pred))\n",
    "    print(\"----------------------------------------------------------\")"
   ]
  },
  {
   "cell_type": "code",
   "execution_count": 33,
   "id": "0f43db12",
   "metadata": {
    "execution": {
     "iopub.execute_input": "2023-05-22T13:36:56.812760Z",
     "iopub.status.busy": "2023-05-22T13:36:56.811668Z",
     "iopub.status.idle": "2023-05-22T13:36:57.467475Z",
     "shell.execute_reply": "2023-05-22T13:36:57.468079Z",
     "shell.execute_reply.started": "2023-05-22T13:27:05.386600Z"
    },
    "papermill": {
     "duration": 0.718469,
     "end_time": "2023-05-22T13:36:57.468326",
     "exception": false,
     "start_time": "2023-05-22T13:36:56.749857",
     "status": "completed"
    },
    "tags": []
   },
   "outputs": [
    {
     "data": {
      "text/plain": [
       "0.9917127071823204"
      ]
     },
     "execution_count": 33,
     "metadata": {},
     "output_type": "execute_result"
    }
   ],
   "source": [
    "rf = RandomForestClassifier()\n",
    "rf.fit(x_smote,y_smote)\n",
    "rf.score(X_test,y_test)"
   ]
  },
  {
   "cell_type": "code",
   "execution_count": 34,
   "id": "07d7eef0",
   "metadata": {
    "execution": {
     "iopub.execute_input": "2023-05-22T13:36:57.588726Z",
     "iopub.status.busy": "2023-05-22T13:36:57.587878Z",
     "iopub.status.idle": "2023-05-22T13:36:57.953448Z",
     "shell.execute_reply": "2023-05-22T13:36:57.952678Z",
     "shell.execute_reply.started": "2023-05-22T13:27:06.057717Z"
    },
    "papermill": {
     "duration": 0.429478,
     "end_time": "2023-05-22T13:36:57.953624",
     "exception": false,
     "start_time": "2023-05-22T13:36:57.524146",
     "status": "completed"
    },
    "tags": []
   },
   "outputs": [
    {
     "data": {
      "image/png": "[encoded data removed]",
      "text/plain": [
       "<Figure size 648x504 with 1 Axes>"
      ]
     },
     "metadata": {
      "needs_background": "light"
     },
     "output_type": "display_data"
    }
   ],
   "source": [
    "plt.figure(figsize=(9,7))\n",
    "feature_imp1 = rf.feature_importances_\n",
    "sns.barplot(x=feature_imp1, y=X.columns)\n",
    "# Add labels to your graph\n",
    "plt.xlabel('Feature Importance Score')\n",
    "plt.ylabel('Features')\n",
    "plt.title(\"Visualizing Important Features For Random Forest \",{'fontsize':25})\n",
    "plt.show();"
   ]
  },
  {
   "cell_type": "code",
   "execution_count": 35,
   "id": "e4c6e580",
   "metadata": {
    "execution": {
     "iopub.execute_input": "2023-05-22T13:36:58.076972Z",
     "iopub.status.busy": "2023-05-22T13:36:58.075791Z",
     "iopub.status.idle": "2023-05-22T13:36:58.077896Z",
     "shell.execute_reply": "2023-05-22T13:36:58.078497Z",
     "shell.execute_reply.started": "2023-05-22T13:27:06.451408Z"
    },
    "papermill": {
     "duration": 0.067967,
     "end_time": "2023-05-22T13:36:58.078691",
     "exception": false,
     "start_time": "2023-05-22T13:36:58.010724",
     "status": "completed"
    },
    "tags": []
   },
   "outputs": [],
   "source": [
    "x_smote.drop(['sick', 'pregnant', 'I131 treatment',\n",
    "              'lithium', 'goitre', 'tumor'], axis=1, inplace=True)\n",
    "X_test.drop(['sick', 'pregnant', 'I131 treatment',\n",
    "              'lithium', 'goitre', 'tumor'], axis=1, inplace=True)\n"
   ]
  },
  {
   "cell_type": "code",
   "execution_count": 36,
   "id": "887343c6",
   "metadata": {
    "execution": {
     "iopub.execute_input": "2023-05-22T13:36:58.201281Z",
     "iopub.status.busy": "2023-05-22T13:36:58.200476Z",
     "iopub.status.idle": "2023-05-22T13:36:58.846538Z",
     "shell.execute_reply": "2023-05-22T13:36:58.847105Z",
     "shell.execute_reply.started": "2023-05-22T13:27:06.462197Z"
    },
    "papermill": {
     "duration": 0.710761,
     "end_time": "2023-05-22T13:36:58.847314",
     "exception": false,
     "start_time": "2023-05-22T13:36:58.136553",
     "status": "completed"
    },
    "tags": []
   },
   "outputs": [
    {
     "data": {
      "text/plain": [
       "0.9875690607734806"
      ]
     },
     "execution_count": 36,
     "metadata": {},
     "output_type": "execute_result"
    }
   ],
   "source": [
    "new_rf = RandomForestClassifier()\n",
    "new_rf.fit(x_smote,y_smote)\n",
    "new_rf.score(X_test,y_test)"
   ]
  },
  {
   "cell_type": "code",
   "execution_count": 37,
   "id": "aff3c391",
   "metadata": {
    "execution": {
     "iopub.execute_input": "2023-05-22T13:36:58.966496Z",
     "iopub.status.busy": "2023-05-22T13:36:58.965671Z",
     "iopub.status.idle": "2023-05-22T13:36:58.969102Z",
     "shell.execute_reply": "2023-05-22T13:36:58.969671Z",
     "shell.execute_reply.started": "2023-05-22T13:27:07.152800Z"
    },
    "papermill": {
     "duration": 0.065237,
     "end_time": "2023-05-22T13:36:58.969883",
     "exception": false,
     "start_time": "2023-05-22T13:36:58.904646",
     "status": "completed"
    },
    "tags": []
   },
   "outputs": [],
   "source": [
    "# with open('thyroid.pkl','wb') as f:\n",
    "#     pickle.dump(new_rf,f)"
   ]
  },
  {
   "cell_type": "code",
   "execution_count": 38,
   "id": "40858d6d",
   "metadata": {
    "execution": {
     "iopub.execute_input": "2023-05-22T13:36:59.088426Z",
     "iopub.status.busy": "2023-05-22T13:36:59.087624Z",
     "iopub.status.idle": "2023-05-22T13:36:59.110262Z",
     "shell.execute_reply": "2023-05-22T13:36:59.109529Z",
     "shell.execute_reply.started": "2023-05-22T13:27:07.159606Z"
    },
    "papermill": {
     "duration": 0.083251,
     "end_time": "2023-05-22T13:36:59.110425",
     "exception": false,
     "start_time": "2023-05-22T13:36:59.027174",
     "status": "completed"
    },
    "tags": []
   },
   "outputs": [
    {
     "data": {
      "text/html": [
       "<div>\n",
       "<style scoped>\n",
       "    .dataframe tbody tr th:only-of-type {\n",
       "        vertical-align: middle;\n",
       "    }\n",
       "\n",
       "    .dataframe tbody tr th {\n",
       "        vertical-align: top;\n",
       "    }\n",
       "\n",
       "    .dataframe thead th {\n",
       "        text-align: right;\n",
       "    }\n",
       "</style>\n",
       "<table border=\"1\" class=\"dataframe\">\n",
       "  <thead>\n",
       "    <tr style=\"text-align: right;\">\n",
       "      <th></th>\n",
       "      <th>age</th>\n",
       "      <th>sex</th>\n",
       "      <th>sick</th>\n",
       "      <th>pregnant</th>\n",
       "      <th>thyroid surgery</th>\n",
       "      <th>I131 treatment</th>\n",
       "      <th>lithium</th>\n",
       "      <th>goitre</th>\n",
       "      <th>tumor</th>\n",
       "      <th>TSH</th>\n",
       "      <th>T3</th>\n",
       "      <th>TT4</th>\n",
       "      <th>T4U</th>\n",
       "      <th>FTI</th>\n",
       "      <th>Label</th>\n",
       "    </tr>\n",
       "  </thead>\n",
       "  <tbody>\n",
       "    <tr>\n",
       "      <th>0</th>\n",
       "      <td>41</td>\n",
       "      <td>F</td>\n",
       "      <td>f</td>\n",
       "      <td>f</td>\n",
       "      <td>f</td>\n",
       "      <td>f</td>\n",
       "      <td>f</td>\n",
       "      <td>f</td>\n",
       "      <td>f</td>\n",
       "      <td>1.30</td>\n",
       "      <td>2.5000</td>\n",
       "      <td>125</td>\n",
       "      <td>1.140</td>\n",
       "      <td>109</td>\n",
       "      <td>P</td>\n",
       "    </tr>\n",
       "    <tr>\n",
       "      <th>1</th>\n",
       "      <td>23</td>\n",
       "      <td>F</td>\n",
       "      <td>f</td>\n",
       "      <td>f</td>\n",
       "      <td>f</td>\n",
       "      <td>f</td>\n",
       "      <td>f</td>\n",
       "      <td>f</td>\n",
       "      <td>f</td>\n",
       "      <td>4.10</td>\n",
       "      <td>2.0000</td>\n",
       "      <td>102</td>\n",
       "      <td>0.995</td>\n",
       "      <td>110</td>\n",
       "      <td>P</td>\n",
       "    </tr>\n",
       "    <tr>\n",
       "      <th>2</th>\n",
       "      <td>46</td>\n",
       "      <td>M</td>\n",
       "      <td>f</td>\n",
       "      <td>f</td>\n",
       "      <td>f</td>\n",
       "      <td>f</td>\n",
       "      <td>f</td>\n",
       "      <td>f</td>\n",
       "      <td>f</td>\n",
       "      <td>0.98</td>\n",
       "      <td>2.0135</td>\n",
       "      <td>109</td>\n",
       "      <td>0.910</td>\n",
       "      <td>120</td>\n",
       "      <td>P</td>\n",
       "    </tr>\n",
       "    <tr>\n",
       "      <th>3</th>\n",
       "      <td>70</td>\n",
       "      <td>F</td>\n",
       "      <td>f</td>\n",
       "      <td>f</td>\n",
       "      <td>f</td>\n",
       "      <td>f</td>\n",
       "      <td>f</td>\n",
       "      <td>f</td>\n",
       "      <td>f</td>\n",
       "      <td>0.16</td>\n",
       "      <td>1.9000</td>\n",
       "      <td>175</td>\n",
       "      <td>0.995</td>\n",
       "      <td>110</td>\n",
       "      <td>P</td>\n",
       "    </tr>\n",
       "    <tr>\n",
       "      <th>4</th>\n",
       "      <td>70</td>\n",
       "      <td>F</td>\n",
       "      <td>f</td>\n",
       "      <td>f</td>\n",
       "      <td>f</td>\n",
       "      <td>f</td>\n",
       "      <td>f</td>\n",
       "      <td>f</td>\n",
       "      <td>f</td>\n",
       "      <td>0.72</td>\n",
       "      <td>1.2000</td>\n",
       "      <td>61</td>\n",
       "      <td>0.870</td>\n",
       "      <td>70</td>\n",
       "      <td>P</td>\n",
       "    </tr>\n",
       "  </tbody>\n",
       "</table>\n",
       "</div>"
      ],
      "text/plain": [
       "   age sex sick pregnant thyroid surgery I131 treatment lithium goitre tumor  \\\n",
       "0   41   F    f        f               f              f       f      f     f   \n",
       "1   23   F    f        f               f              f       f      f     f   \n",
       "2   46   M    f        f               f              f       f      f     f   \n",
       "3   70   F    f        f               f              f       f      f     f   \n",
       "4   70   F    f        f               f              f       f      f     f   \n",
       "\n",
       "    TSH      T3  TT4    T4U  FTI Label  \n",
       "0  1.30  2.5000  125  1.140  109     P  \n",
       "1  4.10  2.0000  102  0.995  110     P  \n",
       "2  0.98  2.0135  109  0.910  120     P  \n",
       "3  0.16  1.9000  175  0.995  110     P  \n",
       "4  0.72  1.2000   61  0.870   70     P  "
      ]
     },
     "execution_count": 38,
     "metadata": {},
     "output_type": "execute_result"
    }
   ],
   "source": [
    "thyroid_df.head()"
   ]
  },
  {
   "cell_type": "markdown",
   "id": "0509d57c",
   "metadata": {
    "papermill": {
     "duration": 0.059495,
     "end_time": "2023-05-22T13:36:59.231098",
     "exception": false,
     "start_time": "2023-05-22T13:36:59.171603",
     "status": "completed"
    },
    "tags": []
   },
   "source": [
    "## **Conclusion**"
   ]
  },
  {
   "cell_type": "markdown",
   "id": "f394f276",
   "metadata": {
    "papermill": {
     "duration": 0.057876,
     "end_time": "2023-05-22T13:36:59.346633",
     "exception": false,
     "start_time": "2023-05-22T13:36:59.288757",
     "status": "completed"
    },
    "tags": []
   },
   "source": [
    "### Thyroid disease is one of the diseases that afflict the world’s population, and the number of cases of this disease is increasing. Because of medical reports that show serious imbalances in thyroid diseases, ourstudy deals with the classification of thyroid disease between hyperthyroidism and hypothyroidism. This disease was classified using algorithms. Machine learning showed us good results using several algorithmsand was built in the form of two models."
   ]
  }
 ],
 "metadata": {
  "kernelspec": {
   "display_name": "Python 3",
   "language": "python",
   "name": "python3"
  },
  "language_info": {
   "codemirror_mode": {
    "name": "ipython",
    "version": 3
   },
   "file_extension": ".py",
   "mimetype": "text/x-python",
   "name": "python",
   "nbconvert_exporter": "python",
   "pygments_lexer": "ipython3",
   "version": "3.7.10"
  },
  "papermill": {
   "default_parameters": {},
   "duration": 25.170453,
   "end_time": "2023-05-22T13:37:00.218170",
   "environment_variables": {},
   "exception": null,
   "input_path": "__notebook__.ipynb",
   "output_path": "__notebook__.ipynb",
   "parameters": {},
   "start_time": "2023-05-22T13:36:35.047717",
   "version": "2.3.3"
  }
 },
 "nbformat": 4,
 "nbformat_minor": 5
}
